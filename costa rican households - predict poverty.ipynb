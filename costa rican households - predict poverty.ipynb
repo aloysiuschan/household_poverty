{
 "cells": [
  {
   "cell_type": "code",
   "execution_count": 1,
   "metadata": {
    "_cell_guid": "b1076dfc-b9ad-4769-8c92-a6c4dae69d19",
    "_uuid": "8f2839f25d086af736a60e9eeb907d3b93b6e0e5"
   },
   "outputs": [],
   "source": [
    "%reset -f\n",
    "\n",
    "import warnings\n",
    "warnings.filterwarnings('ignore')\n",
    "\n",
    "import numpy as np\n",
    "import pandas as pd\n",
    "import matplotlib.pyplot as plt\n",
    "import seaborn as sns\n",
    "\n",
    "np.random.seed(123)"
   ]
  },
  {
   "cell_type": "code",
   "execution_count": 2,
   "metadata": {
    "_cell_guid": "79c7e3d0-c299-4dcb-8224-4455121ee9b0",
    "_uuid": "d629ff2d2480ee46fbb7e2d37f6b5fab8052498a",
    "scrolled": false
   },
   "outputs": [],
   "source": [
    "# import datasets\n",
    "\n",
    "#train = pd.read_csv('../input/train.csv')\n",
    "train = pd.read_csv('../data/kaggle household poverty/train.csv')\n",
    "\n",
    "#test = pd.read_csv('../input/test.csv')\n",
    "test = pd.read_csv('../data/kaggle household poverty/test.csv')"
   ]
  },
  {
   "cell_type": "code",
   "execution_count": 3,
   "metadata": {
    "_uuid": "ba589d9fe7968cd0b8b625453d0af9e3549ac610"
   },
   "outputs": [
    {
     "data": {
      "image/png": "[encoded data removed]",
      "text/plain": [
       "<Figure size 432x288 with 1 Axes>"
      ]
     },
     "metadata": {},
     "output_type": "display_data"
    }
   ],
   "source": [
    "# extract target variable from train set\n",
    "target = train['Target']\n",
    "del train['Target']\n",
    "\n",
    "# view the distribution of the target variable\n",
    "sns.countplot(target) # target variable has imbalanced classes; use balanced class weights when building random forest later\n",
    "\n",
    "# extract Id variable from test set\n",
    "Id = test['Id']"
   ]
  },
  {
   "cell_type": "code",
   "execution_count": 4,
   "metadata": {
    "_uuid": "562e2ae3ee7f062d59ac6db948e044126cc8b022"
   },
   "outputs": [],
   "source": [
    "# bind the rows of the train and test sets\n",
    "full = pd.concat([train,test], axis='rows')\n",
    "\n",
    "# drop unwanted variables\n",
    "full.drop(columns=['Id','parentesco1'], inplace=True)"
   ]
  },
  {
   "cell_type": "code",
   "execution_count": 5,
   "metadata": {},
   "outputs": [],
   "source": [
    "# correct outlier(s)\n",
    "full.loc[full['rez_esc'] == 99.0 , 'rez_esc'] = 5"
   ]
  },
  {
   "cell_type": "code",
   "execution_count": 6,
   "metadata": {
    "_uuid": "143f7686b8a246725d1ebbe7fe7976e810dbea03"
   },
   "outputs": [
    {
     "name": "stdout",
     "output_type": "stream",
     "text": [
      "count       140\n",
      "unique        2\n",
      "top       False\n",
      "freq        135\n",
      "dtype: object\n",
      "--------------------------------------------------\n",
      "               Count\n",
      "rez_esc    82.545716\n",
      "v18q1      76.221830\n",
      "v2a1       72.615449\n",
      "SQBmeaned   0.107742\n",
      "meaneduc    0.107742\n"
     ]
    }
   ],
   "source": [
    "# check for missing values\n",
    "print(full.isnull().any().describe()) # 139-134=5 variables have missing values\n",
    "print('-'*50)\n",
    "\n",
    "full_na = full.isnull().sum().values / full.shape[0] *100\n",
    "full_na = pd.DataFrame(full_na, index=full.columns, columns=['Count'])\n",
    "full_na = full_na.sort_values(by=['Count'], ascending=False)\n",
    "full_na = full_na[full_na['Count']>0]\n",
    "print(full_na)"
   ]
  },
  {
   "cell_type": "code",
   "execution_count": 7,
   "metadata": {},
   "outputs": [
    {
     "name": "stdout",
     "output_type": "stream",
     "text": [
      "0.0    4474\n",
      "1.0     728\n",
      "2.0     336\n",
      "3.0     174\n",
      "4.0      80\n",
      "5.0      40\n",
      "Name: rez_esc, dtype: int64\n",
      "   escolari  rez_esc\n",
      "0        10      NaN\n",
      "1        12      NaN\n",
      "2        11      NaN\n",
      "3         9      1.0\n",
      "4        11      NaN\n",
      "--------------------------------------------------\n",
      "1.0    5883\n",
      "2.0    1449\n",
      "3.0     447\n",
      "4.0     125\n",
      "5.0      31\n",
      "6.0      10\n",
      "Name: v18q1, dtype: int64\n",
      "   v18q1  v18q\n",
      "0    NaN     0\n",
      "1    1.0     1\n",
      "2    NaN     0\n",
      "3    1.0     1\n",
      "4    1.0     1\n",
      "--------------------------------------------------\n",
      "           v2a1  tipovivi3\n",
      "23855       NaN          0\n",
      "20087       NaN          0\n",
      "20088       NaN          0\n",
      "20089       NaN          0\n",
      "20090       NaN          0\n",
      "20091       NaN          0\n",
      "20092       NaN          0\n",
      "20093       NaN          0\n",
      "9321        NaN          0\n",
      "9320        NaN          0\n",
      "9319        NaN          0\n",
      "9318        NaN          0\n",
      "9317        NaN          0\n",
      "9316        NaN          0\n",
      "9315        NaN          0\n",
      "20094       NaN          0\n",
      "20095       NaN          0\n",
      "20096       NaN          0\n",
      "20097       NaN          0\n",
      "20098       NaN          0\n",
      "20099       NaN          0\n",
      "20100       NaN          0\n",
      "9307        NaN          0\n",
      "9306        NaN          0\n",
      "20086       NaN          0\n",
      "9305        NaN          0\n",
      "9330        NaN          0\n",
      "9332        NaN          0\n",
      "9355        NaN          0\n",
      "9354        NaN          0\n",
      "...         ...        ...\n",
      "6790   200000.0          1\n",
      "6797    90000.0          1\n",
      "6798    90000.0          1\n",
      "6799   170000.0          1\n",
      "6800   170000.0          1\n",
      "6801   170000.0          1\n",
      "6809   135000.0          1\n",
      "6810   135000.0          1\n",
      "6796    90000.0          1\n",
      "6825    75000.0          1\n",
      "6716    80000.0          1\n",
      "6714    80000.0          1\n",
      "6629   313797.0          1\n",
      "6630   313797.0          1\n",
      "6631   313797.0          1\n",
      "6637   270000.0          1\n",
      "6638   270000.0          1\n",
      "6639   270000.0          1\n",
      "6640   270000.0          1\n",
      "6715    80000.0          1\n",
      "6643   240000.0          1\n",
      "6645   240000.0          1\n",
      "6685   100000.0          1\n",
      "6686   100000.0          1\n",
      "6691    95000.0          1\n",
      "6692    95000.0          1\n",
      "6693    95000.0          1\n",
      "6694    95000.0          1\n",
      "6644   240000.0          1\n",
      "7149   170000.0          1\n",
      "\n",
      "[33413 rows x 2 columns]\n"
     ]
    }
   ],
   "source": [
    "# figure out how missing values should be imputed (for variables with lots of missing values)\n",
    "print(full['rez_esc'].value_counts())\n",
    "print(full[['escolari','rez_esc']].head()) # can fill with median\n",
    "print('-'*50)\n",
    "\n",
    "print(full['v18q1'].value_counts())\n",
    "print(full[['v18q1','v18q']].head()) # fill with zero\n",
    "print('-'*50)\n",
    "\n",
    "print(full[['v2a1','tipovivi3']].sort_values('tipovivi3')) # fill with zero"
   ]
  },
  {
   "cell_type": "code",
   "execution_count": 8,
   "metadata": {
    "_uuid": "7898de7df76b07786f3e58c5f92d2132be4f860c"
   },
   "outputs": [
    {
     "data": {
      "text/plain": [
       "count       140\n",
       "unique        1\n",
       "top       False\n",
       "freq        140\n",
       "dtype: object"
      ]
     },
     "execution_count": 8,
     "metadata": {},
     "output_type": "execute_result"
    }
   ],
   "source": [
    "# customized imputation of missing values\n",
    "full['v18q1'] = full['v18q1'].fillna(0)\n",
    "\n",
    "full['v2a1'] = full['v2a1'].fillna(0)\n",
    "\n",
    "# create list of numeric variables with missing values\n",
    "numeric_cols_with_missing = [] # initialize empty list\n",
    "\n",
    "for col, col_data in full.iteritems():\n",
    "    if col_data.isnull().any() and (col_data.dtype=='int' or col_data.dtype=='float'):\n",
    "        numeric_cols_with_missing.append(col)\n",
    "\n",
    "# impute numeric variables' missing values with variable medians\n",
    "for var in numeric_cols_with_missing:\n",
    "    full[var].fillna(full[var].median(), inplace = True)\n",
    "\n",
    "# create list of object variables with missing values\n",
    "object_cols_with_missing = []\n",
    "\n",
    "for col, col_data in full.iteritems():\n",
    "    if col_data.isnull().any() and col_data.dtype=='object':\n",
    "        object_cols_with_missing.append(col)\n",
    "\n",
    "# impute object variables' missing values with variable modes\n",
    "for var in object_cols_with_missing:\n",
    "    full[var].fillna(full[var].mode()[0], inplace = True)\n",
    "\n",
    "# confirm that there are no more missing values\n",
    "full.isnull().any().describe()"
   ]
  },
  {
   "cell_type": "code",
   "execution_count": 9,
   "metadata": {
    "_uuid": "2f7b7331bc15d736f80702d0b40d15bb23f01cec"
   },
   "outputs": [
    {
     "name": "stdout",
     "output_type": "stream",
     "text": [
      "yes          7580\n",
      "no           6036\n",
      ".5           5175\n",
      "2            2499\n",
      "1.5          2471\n",
      ".33333334    2131\n",
      ".66666669    1617\n",
      "8            1415\n",
      ".25           944\n",
      "3             832\n",
      "1.3333334     362\n",
      ".2            306\n",
      ".75           301\n",
      "2.5           301\n",
      "4             295\n",
      ".40000001     259\n",
      ".60000002     136\n",
      "1.6666666     128\n",
      "5             120\n",
      "1.25           72\n",
      ".80000001      63\n",
      ".16666667      63\n",
      "3.5            36\n",
      ".83333331      33\n",
      ".14285715      32\n",
      "2.3333333      30\n",
      "2.25           26\n",
      "1.2            22\n",
      ".2857143       18\n",
      "7              16\n",
      "6              14\n",
      ".85714287      13\n",
      "3.3333333      13\n",
      ".71428573      12\n",
      ".22222222      11\n",
      ".375           11\n",
      "1.75           11\n",
      ".125            9\n",
      "Name: dependency, dtype: int64\n",
      "--------------------------------------------------\n",
      "no     12818\n",
      "6       6958\n",
      "11      2507\n",
      "9       1564\n",
      "3       1046\n",
      "8       1020\n",
      "15       910\n",
      "14       804\n",
      "7        797\n",
      "17       702\n",
      "5        685\n",
      "2        617\n",
      "16       609\n",
      "4        505\n",
      "12       494\n",
      "yes      416\n",
      "10       395\n",
      "13       341\n",
      "21       111\n",
      "19        44\n",
      "18        39\n",
      "20        31\n",
      "Name: edjefe, dtype: int64\n",
      "--------------------------------------------------\n",
      "no     22075\n",
      "6       3401\n",
      "11      1350\n",
      "9        735\n",
      "15       656\n",
      "8        627\n",
      "5        623\n",
      "7        561\n",
      "3        533\n",
      "4        399\n",
      "16       393\n",
      "14       384\n",
      "2        347\n",
      "10       324\n",
      "17       311\n",
      "12       227\n",
      "yes      214\n",
      "13       194\n",
      "21        29\n",
      "19        14\n",
      "18         9\n",
      "20         7\n",
      "Name: edjefa, dtype: int64\n",
      "--------------------------------------------------\n"
     ]
    }
   ],
   "source": [
    "# view string variables (except idhogar)\n",
    "object_cols = []\n",
    "\n",
    "for col, col_data in full.iteritems():\n",
    "    if col_data.dtype=='object' and col!='idhogar':\n",
    "        object_cols.append(col)\n",
    "\n",
    "for object_col in object_cols:\n",
    "    print(full[object_col].value_counts())\n",
    "    print('-'*50)\n",
    "\n",
    "# string variables can be converted to numeric; recode 'yes' to 1, and 'no' to 0\n",
    "full[object_cols] = full[object_cols].replace({'no':0, 'yes':1}).astype(float)"
   ]
  },
  {
   "cell_type": "code",
   "execution_count": 10,
   "metadata": {
    "_uuid": "35b7017c329307304a8315bb1bb26c5c344ee2ae"
   },
   "outputs": [
    {
     "name": "stdout",
     "output_type": "stream",
     "text": [
      "<class 'pandas.core.frame.DataFrame'>\n",
      "Int64Index: 33413 entries, 0 to 23855\n",
      "Columns: 140 entries, v2a1 to agesq\n",
      "dtypes: float64(11), int64(128), object(1)\n",
      "memory usage: 35.9+ MB\n",
      "None\n"
     ]
    }
   ],
   "source": [
    "# confirm that there are no more string variables (except idhogar)\n",
    "print(full.info())"
   ]
  },
  {
   "cell_type": "code",
   "execution_count": 11,
   "metadata": {
    "_uuid": "405da0e18c4e0dd39229aa8a5b4ad06169393516"
   },
   "outputs": [],
   "source": [
    "# feature engineering\n",
    "full['mean_overcrowding'] = full[['hacdor','hacapo']].mean(axis=1)\n",
    "\n",
    "full['under12_12andover'] = full['r4t1'] / full['r4t2']\n",
    "\n",
    "full_groupby_idhogar = pd.DataFrame()\n",
    "important_features = ['escolari','age']\n",
    "for feat in important_features:\n",
    "    for func in ['mean','min','max']:\n",
    "        newcol = feat + '_' + func\n",
    "        full_groupby_idhogar[newcol] = full.groupby('idhogar')[feat].agg(func)\n",
    "full_groupby_idhogar = full_groupby_idhogar.reset_index()\n",
    "full = full.merge(full_groupby_idhogar, on='idhogar')\n",
    "del full_groupby_idhogar"
   ]
  },
  {
   "cell_type": "code",
   "execution_count": 12,
   "metadata": {
    "_uuid": "49327fa1f3621efd625d1a1ae2fc39e9326e3328"
   },
   "outputs": [],
   "source": [
    "# drop idhogar\n",
    "del full['idhogar']\n",
    "\n",
    "# split full dataset into train and test sets\n",
    "train = full[:train.shape[0]]\n",
    "test = full[train.shape[0]:]"
   ]
  },
  {
   "cell_type": "code",
   "execution_count": 13,
   "metadata": {
    "_uuid": "da96aa8fbde092a50d9e855ca338d992e31b175b",
    "scrolled": true
   },
   "outputs": [
    {
     "name": "stdout",
     "output_type": "stream",
     "text": [
      "the mean training macro F1 score is: 0.6979140734400259\n",
      "the mean cross-validation macro F1 score is: 0.4045766689314275\n"
     ]
    }
   ],
   "source": [
    "# random forest classifier\n",
    "from sklearn.ensemble import RandomForestClassifier\n",
    "from sklearn import model_selection\n",
    "\n",
    "# initialize a template for random forest, based on the parameters you want to set\n",
    "rfc = RandomForestClassifier(n_jobs=-1,\n",
    "                             n_estimators=200,\n",
    "                             class_weight='balanced',\n",
    "                             max_depth=7)\n",
    "\n",
    "# perform cross-validation\n",
    "rfc_cv = model_selection.cross_validate(rfc,\n",
    "                                        train,\n",
    "                                        target,\n",
    "                                        scoring='f1_macro',\n",
    "                                        cv=10)\n",
    "\n",
    "print('the mean training macro F1 score is:', rfc_cv['train_score'].mean())\n",
    "print('the mean cross-validation macro F1 score is:', rfc_cv['test_score'].mean())"
   ]
  },
  {
   "cell_type": "code",
   "execution_count": 14,
   "metadata": {
    "_uuid": "5d16a3772c8a0a597962890b219dc02d09c6aba7"
   },
   "outputs": [
    {
     "data": {
      "text/plain": [
       "<matplotlib.axes._subplots.AxesSubplot at 0x1a048579320>"
      ]
     },
     "execution_count": 14,
     "metadata": {},
     "output_type": "execute_result"
    },
    {
     "data": {
      "image/png": "[encoded data removed]",
      "text/plain": [
       "<Figure size 432x288 with 1 Axes>"
      ]
     },
     "metadata": {},
     "output_type": "display_data"
    }
   ],
   "source": [
    "# fit the random forest\n",
    "rfc_fitted = rfc.fit(train,target)\n",
    "\n",
    "# plot feature importance (as determined by the built random forest model)\n",
    "feature_importances = pd.Series(rfc_fitted.feature_importances_, index=train.columns)\n",
    "feature_importances = feature_importances.sort_values(ascending=False) # sort from highest to lowest importance\n",
    "feature_importances.nlargest(10).plot(kind='barh')"
   ]
  },
  {
   "cell_type": "code",
   "execution_count": 15,
   "metadata": {
    "_uuid": "7629738864f82a758eb2f11223a7ae8a08ea84ff"
   },
   "outputs": [],
   "source": [
    "# generate predictions for the test set\n",
    "predictions_rfc = rfc_fitted.predict(test)\n",
    "predictions_rfc = predictions_rfc.astype('int')\n",
    "\n",
    "submission_rfc = pd.DataFrame({'Id': Id,\n",
    "                               'Target': predictions_rfc})\n",
    "submission_rfc.to_csv(\"submission1.csv\", index=False)"
   ]
  },
  {
   "cell_type": "code",
   "execution_count": 16,
   "metadata": {
    "_uuid": "4fc681d53f61ea21a519061e975087bc13c17abc"
   },
   "outputs": [
    {
     "name": "stdout",
     "output_type": "stream",
     "text": [
      "4    0.513749\n",
      "3    0.217052\n",
      "2    0.160211\n",
      "1    0.108987\n",
      "Name: Target, dtype: float64\n",
      "--------------------------------------------------\n",
      "4    0.627394\n",
      "2    0.167103\n",
      "3    0.126504\n",
      "1    0.079000\n",
      "Name: Target, dtype: float64\n"
     ]
    }
   ],
   "source": [
    "# let's check if the model is overpredicting the majority class\n",
    "print(submission_rfc['Target'].value_counts() / submission_rfc.shape[0])\n",
    "print('-'*50)\n",
    "print(pd.Series(target).value_counts() / train.shape[0])"
   ]
  },
  {
   "cell_type": "code",
   "execution_count": null,
   "metadata": {},
   "outputs": [],
   "source": []
  },
  {
   "cell_type": "code",
   "execution_count": null,
   "metadata": {},
   "outputs": [],
   "source": []
  }
 ],
 "metadata": {
  "kernelspec": {
   "display_name": "Python 3",
   "language": "python",
   "name": "python3"
  },
  "language_info": {
   "codemirror_mode": {
    "name": "ipython",
    "version": 3
   },
   "file_extension": ".py",
   "mimetype": "text/x-python",
   "name": "python",
   "nbconvert_exporter": "python",
   "pygments_lexer": "ipython3",
   "version": "3.6.5"
  }
 },
 "nbformat": 4,
 "nbformat_minor": 1
}
