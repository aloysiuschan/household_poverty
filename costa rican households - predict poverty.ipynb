{
 "cells": [
  {
   "cell_type": "code",
   "execution_count": 3,
   "metadata": {
    "_cell_guid": "b1076dfc-b9ad-4769-8c92-a6c4dae69d19",
    "_uuid": "8f2839f25d086af736a60e9eeb907d3b93b6e0e5"
   },
   "outputs": [],
   "source": [
    "%reset -f\n",
    "\n",
    "import warnings\n",
    "warnings.filterwarnings('ignore')\n",
    "\n",
    "import numpy as np\n",
    "import pandas as pd\n",
    "import matplotlib.pyplot as plt\n",
    "import seaborn as sns\n",
    "\n",
    "np.random.seed(123)"
   ]
  },
  {
   "cell_type": "code",
   "execution_count": 4,
   "metadata": {
    "_cell_guid": "79c7e3d0-c299-4dcb-8224-4455121ee9b0",
    "_uuid": "d629ff2d2480ee46fbb7e2d37f6b5fab8052498a",
    "scrolled": false
   },
   "outputs": [],
   "source": [
    "# import datasets\n",
    "train = pd.read_csv('../input/train.csv')\n",
    "test = pd.read_csv('../input/test.csv')"
   ]
  },
  {
   "cell_type": "code",
   "execution_count": 5,
   "metadata": {
    "_uuid": "ba589d9fe7968cd0b8b625453d0af9e3549ac610"
   },
   "outputs": [
    {
     "data": {
      "image/png": "[encoded data removed]",
      "text/plain": [
       "<Figure size 432x288 with 1 Axes>"
      ]
     },
     "metadata": {},
     "output_type": "display_data"
    }
   ],
   "source": [
    "# extract target variable from train set\n",
    "target = train['Target']\n",
    "del train['Target']\n",
    "\n",
    "# view the distribution of the target variable\n",
    "sns.countplot(target) # target variable has imbalanced classes; use balanced class weights when building random forest later\n",
    "\n",
    "# extract Id variable from test set\n",
    "Id = test['Id']"
   ]
  },
  {
   "cell_type": "code",
   "execution_count": 6,
   "metadata": {
    "_uuid": "562e2ae3ee7f062d59ac6db948e044126cc8b022"
   },
   "outputs": [],
   "source": [
    "# bind the rows of the train and test sets\n",
    "full = pd.concat([train,test], axis='rows')\n",
    "\n",
    "# drop unwanted variables\n",
    "full.drop(columns=['Id','idhogar','parentesco1'], inplace=True)"
   ]
  },
  {
   "cell_type": "code",
   "execution_count": 7,
   "metadata": {
    "_uuid": "143f7686b8a246725d1ebbe7fe7976e810dbea03"
   },
   "outputs": [
    {
     "data": {
      "text/plain": [
       "count       139\n",
       "unique        2\n",
       "top       False\n",
       "freq        134\n",
       "dtype: object"
      ]
     },
     "execution_count": 7,
     "metadata": {},
     "output_type": "execute_result"
    }
   ],
   "source": [
    "# check for missing values\n",
    "full.isnull().any().describe()"
   ]
  },
  {
   "cell_type": "code",
   "execution_count": 8,
   "metadata": {
    "_uuid": "7898de7df76b07786f3e58c5f92d2132be4f860c"
   },
   "outputs": [
    {
     "data": {
      "text/plain": [
       "count       139\n",
       "unique        1\n",
       "top       False\n",
       "freq        139\n",
       "dtype: object"
      ]
     },
     "execution_count": 8,
     "metadata": {},
     "output_type": "execute_result"
    }
   ],
   "source": [
    "# create list of numeric variables with missing values\n",
    "numeric_cols_with_missing = [] # initialize empty list\n",
    "\n",
    "for col, col_data in full.iteritems():\n",
    "    if col_data.isnull().any() and (col_data.dtype=='int' or col_data.dtype=='float'):\n",
    "        numeric_cols_with_missing.append(col)\n",
    "\n",
    "# impute numeric variables' missing values with variable medians\n",
    "for var in numeric_cols_with_missing:\n",
    "    full[var].fillna(full[var].median(), inplace = True)\n",
    "\n",
    "# create list of object variables with missing values\n",
    "object_cols_with_missing = []\n",
    "\n",
    "for col, col_data in full.iteritems():\n",
    "    if col_data.isnull().any() and col_data.dtype=='object':\n",
    "        object_cols_with_missing.append(col)\n",
    "\n",
    "# impute object variables' missing values with variable modes\n",
    "for var in object_cols_with_missing:\n",
    "    full[var].fillna(full[var].mode()[0], inplace = True)\n",
    "\n",
    "# confirm that there are no more missing values\n",
    "full.isnull().any().describe()"
   ]
  },
  {
   "cell_type": "code",
   "execution_count": 9,
   "metadata": {
    "_uuid": "2f7b7331bc15d736f80702d0b40d15bb23f01cec"
   },
   "outputs": [
    {
     "name": "stdout",
     "output_type": "stream",
     "text": [
      "yes          7580\n",
      "no           6036\n",
      ".5           5175\n",
      "2            2499\n",
      "1.5          2471\n",
      ".33333334    2131\n",
      ".66666669    1617\n",
      "8            1415\n",
      ".25           944\n",
      "3             832\n",
      "1.3333334     362\n",
      ".2            306\n",
      ".75           301\n",
      "2.5           301\n",
      "4             295\n",
      ".40000001     259\n",
      ".60000002     136\n",
      "1.6666666     128\n",
      "5             120\n",
      "1.25           72\n",
      ".80000001      63\n",
      ".16666667      63\n",
      "3.5            36\n",
      ".83333331      33\n",
      ".14285715      32\n",
      "2.3333333      30\n",
      "2.25           26\n",
      "1.2            22\n",
      ".2857143       18\n",
      "7              16\n",
      "6              14\n",
      ".85714287      13\n",
      "3.3333333      13\n",
      ".71428573      12\n",
      ".375           11\n",
      "1.75           11\n",
      ".22222222      11\n",
      ".125            9\n",
      "Name: dependency, dtype: int64\n",
      "--------------------------------------------------\n",
      "no     12818\n",
      "6       6958\n",
      "11      2507\n",
      "9       1564\n",
      "3       1046\n",
      "8       1020\n",
      "15       910\n",
      "14       804\n",
      "7        797\n",
      "17       702\n",
      "5        685\n",
      "2        617\n",
      "16       609\n",
      "4        505\n",
      "12       494\n",
      "yes      416\n",
      "10       395\n",
      "13       341\n",
      "21       111\n",
      "19        44\n",
      "18        39\n",
      "20        31\n",
      "Name: edjefe, dtype: int64\n",
      "--------------------------------------------------\n",
      "no     22075\n",
      "6       3401\n",
      "11      1350\n",
      "9        735\n",
      "15       656\n",
      "8        627\n",
      "5        623\n",
      "7        561\n",
      "3        533\n",
      "4        399\n",
      "16       393\n",
      "14       384\n",
      "2        347\n",
      "10       324\n",
      "17       311\n",
      "12       227\n",
      "yes      214\n",
      "13       194\n",
      "21        29\n",
      "19        14\n",
      "18         9\n",
      "20         7\n",
      "Name: edjefa, dtype: int64\n",
      "--------------------------------------------------\n"
     ]
    }
   ],
   "source": [
    "# view string variables\n",
    "object_cols = []\n",
    "\n",
    "for col, col_data in full.iteritems():\n",
    "    if col_data.dtype=='object':\n",
    "        object_cols.append(col)\n",
    "\n",
    "for object_col in object_cols:\n",
    "    print(full[object_col].value_counts())\n",
    "    print('-'*50)\n",
    "\n",
    "# dependency is not needed because we have SQBdependency. edjefa and edjefe are not needed because they are interactions of existing numeric variables (and random forest can capture interactions)\n",
    "full.drop(columns=object_cols, inplace=True)"
   ]
  },
  {
   "cell_type": "code",
   "execution_count": 10,
   "metadata": {
    "_uuid": "35b7017c329307304a8315bb1bb26c5c344ee2ae"
   },
   "outputs": [
    {
     "name": "stdout",
     "output_type": "stream",
     "text": [
      "<class 'pandas.core.frame.DataFrame'>\n",
      "Int64Index: 33413 entries, 0 to 23855\n",
      "Columns: 136 entries, v2a1 to agesq\n",
      "dtypes: float64(8), int64(128)\n",
      "memory usage: 34.9 MB\n",
      "None\n"
     ]
    }
   ],
   "source": [
    "# confirm that there are no more string variables\n",
    "print(full.info())"
   ]
  },
  {
   "cell_type": "code",
   "execution_count": 11,
   "metadata": {
    "_uuid": "405da0e18c4e0dd39229aa8a5b4ad06169393516"
   },
   "outputs": [],
   "source": [
    "# feature engineering\n",
    "full['mean_overcrowding'] = full[['hacdor','hacapo']].mean(axis=1)\n",
    "\n",
    "full['under12_12andover'] = full['r4t1'] / full['r4t2']"
   ]
  },
  {
   "cell_type": "code",
   "execution_count": 12,
   "metadata": {
    "_uuid": "49327fa1f3621efd625d1a1ae2fc39e9326e3328"
   },
   "outputs": [],
   "source": [
    "# split full dataset into train and test sets\n",
    "train = full[:train.shape[0]]\n",
    "test = full[train.shape[0]:]"
   ]
  },
  {
   "cell_type": "code",
   "execution_count": 13,
   "metadata": {
    "_uuid": "da96aa8fbde092a50d9e855ca338d992e31b175b"
   },
   "outputs": [
    {
     "name": "stdout",
     "output_type": "stream",
     "text": [
      "the mean training macro F1 score is: 0.6923052444357652\n",
      "the mean cross-validation macro F1 score is: 0.3866302649583043\n"
     ]
    }
   ],
   "source": [
    "# random forest classifier\n",
    "from sklearn.ensemble import RandomForestClassifier\n",
    "from sklearn import model_selection\n",
    "\n",
    "# initialize a template for random forest, based on the parameters you want to set\n",
    "rfc = RandomForestClassifier(n_jobs=-1,\n",
    "                             n_estimators=200,\n",
    "                             max_depth=7,\n",
    "                             class_weight='balanced')\n",
    "\n",
    "# perform cross-validation\n",
    "rfc_cv = model_selection.cross_validate(rfc,\n",
    "                                        train,\n",
    "                                        target,\n",
    "                                        scoring='f1_macro',\n",
    "                                        cv=10)\n",
    "\n",
    "print('the mean training macro F1 score is:', rfc_cv['train_score'].mean())\n",
    "print('the mean cross-validation macro F1 score is:', rfc_cv['test_score'].mean())"
   ]
  },
  {
   "cell_type": "code",
   "execution_count": 14,
   "metadata": {
    "_uuid": "5d16a3772c8a0a597962890b219dc02d09c6aba7"
   },
   "outputs": [
    {
     "data": {
      "text/plain": [
       "<matplotlib.axes._subplots.AxesSubplot at 0x2775bfde160>"
      ]
     },
     "execution_count": 14,
     "metadata": {},
     "output_type": "execute_result"
    },
    {
     "data": {
      "image/png": "[encoded data removed]",
      "text/plain": [
       "<Figure size 432x288 with 1 Axes>"
      ]
     },
     "metadata": {},
     "output_type": "display_data"
    }
   ],
   "source": [
    "# fit the random forest\n",
    "rfc_fitted = rfc.fit(train,target)\n",
    "\n",
    "# plot feature importance (as determined by the built random forest model)\n",
    "feature_importances = pd.Series(rfc_fitted.feature_importances_, index=train.columns)\n",
    "feature_importances = feature_importances.sort_values(ascending=False) # sort from highest to lowest importance\n",
    "feature_importances.nlargest(10).plot(kind='barh') # seems like elevation is by far the most useful predictor"
   ]
  },
  {
   "cell_type": "code",
   "execution_count": 15,
   "metadata": {
    "_uuid": "7629738864f82a758eb2f11223a7ae8a08ea84ff"
   },
   "outputs": [],
   "source": [
    "# generate predictions for the test set\n",
    "predictions_rfc = rfc_fitted.predict(test)\n",
    "predictions_rfc = predictions_rfc.astype('int')\n",
    "\n",
    "submission_rfc = pd.DataFrame({'Id': Id,\n",
    "                               'Target': predictions_rfc})\n",
    "submission_rfc.to_csv(\"submission1.csv\", index=False)"
   ]
  },
  {
   "cell_type": "code",
   "execution_count": null,
   "metadata": {
    "_uuid": "4fc681d53f61ea21a519061e975087bc13c17abc"
   },
   "outputs": [],
   "source": []
  },
  {
   "cell_type": "code",
   "execution_count": null,
   "metadata": {
    "_uuid": "8a0450a04704fbf6a2d1f6ba004699741bcfdbe9"
   },
   "outputs": [],
   "source": []
  }
 ],
 "metadata": {
  "kernelspec": {
   "display_name": "Python 3",
   "language": "python",
   "name": "python3"
  },
  "language_info": {
   "codemirror_mode": {
    "name": "ipython",
    "version": 3
   },
   "file_extension": ".py",
   "mimetype": "text/x-python",
   "name": "python",
   "nbconvert_exporter": "python",
   "pygments_lexer": "ipython3",
   "version": "3.6.5"
  }
 },
 "nbformat": 4,
 "nbformat_minor": 1
}
